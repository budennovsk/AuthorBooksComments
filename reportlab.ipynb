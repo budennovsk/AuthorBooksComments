{
  "nbformat": 4,
  "nbformat_minor": 0,
  "metadata": {
    "colab": {
      "provenance": [],
      "authorship_tag": "ABX9TyMS3YLdoWKMhU0BsdGU9rZ2",
      "include_colab_link": true
    },
    "kernelspec": {
      "name": "python3",
      "display_name": "Python 3"
    },
    "language_info": {
      "name": "python"
    }
  },
  "cells": [
    {
      "cell_type": "markdown",
      "metadata": {
        "id": "view-in-github",
        "colab_type": "text"
      },
      "source": [
        "<a href=\"https://colab.research.google.com/github/budennovsk/AuthorBooksComments/blob/master/reportlab.ipynb\" target=\"_parent\"><img src=\"https://colab.research.google.com/assets/colab-badge.svg\" alt=\"Open In Colab\"/></a>"
      ]
    },
    {
      "cell_type": "code",
      "execution_count": 1,
      "metadata": {
        "colab": {
          "base_uri": "https://localhost:8080/"
        },
        "id": "Kpv-fFgdIdZD",
        "outputId": "ae727180-f345-45a5-ed6a-c88c69cdc8d7"
      },
      "outputs": [
        {
          "output_type": "stream",
          "name": "stdout",
          "text": [
            "Collecting reportlab\n",
            "  Downloading reportlab-4.2.2-py3-none-any.whl (1.9 MB)\n",
            "\u001b[2K     \u001b[90m━━━━━━━━━━━━━━━━━━━━━━━━━━━━━━━━━━━━━━━━\u001b[0m \u001b[32m1.9/1.9 MB\u001b[0m \u001b[31m7.5 MB/s\u001b[0m eta \u001b[36m0:00:00\u001b[0m\n",
            "\u001b[?25hRequirement already satisfied: pillow>=9.0.0 in /usr/local/lib/python3.10/dist-packages (from reportlab) (9.4.0)\n",
            "Requirement already satisfied: chardet in /usr/local/lib/python3.10/dist-packages (from reportlab) (5.2.0)\n",
            "Installing collected packages: reportlab\n",
            "Successfully installed reportlab-4.2.2\n"
          ]
        }
      ],
      "source": [
        "!pip install reportlab\n"
      ]
    },
    {
      "cell_type": "code",
      "source": [
        "from reportlab.lib import colors\n",
        "from reportlab.lib.pagesizes import letter\n",
        "from reportlab.platypus import SimpleDocTemplate, Table, TableStyle\n",
        "\n",
        "# Создаем PDF-документ\n",
        "pdf_file = \"table_example.pdf\"\n",
        "doc = SimpleDocTemplate(pdf_file, pagesize=letter)\n",
        "\n",
        "# Данные для таблицы\n",
        "data = [\n",
        "    [\"Column 1\", \"Column 2\", \"Column 3\"],  # Заголовки столбцов\n",
        "    [\"Data 1\", \"Data 2\", \"Data 3\"],\n",
        "    [\"Data 4\", \"Data 5\", \"Data 6\"],\n",
        "    [\"Data 7\", \"Data 8\", \"Data 9\"]\n",
        "]\n",
        "\n",
        "# Создаем таблицу\n",
        "table = Table(data)\n",
        "\n",
        "# Добавляем стиль таблицы\n",
        "style = TableStyle([\n",
        "    ('BACKGROUND', (0, 0), (-1, 0), colors.grey),  # Фон заголовков\n",
        "    ('TEXTCOLOR', (0, 0), (-1, 0), colors.whitesmoke),  # Цвет текста заголовков\n",
        "    ('ALIGN', (0, 0), (-1, -1), 'CENTER'),  # Выравнивание текста по центру\n",
        "    ('FONTNAME', (0, 0), (-1, 0), 'Helvetica-Bold'),  # Шрифт заголовков\n",
        "    ('BOTTOMPADDING', (0, 0), (-1, 0), 12),  # Отступ снизу заголовков\n",
        "    ('BACKGROUND', (0, 1), (-1, -1), colors.beige),  # Фон данных\n",
        "    ('GRID', (0, 0), (-1, -1), 1, colors.black)  # Сетка таблицы\n",
        "])\n",
        "table.setStyle(style)\n",
        "\n",
        "# Собираем документ\n",
        "elements = []\n",
        "elements.append(table)\n",
        "\n",
        "# Сохраняем документ\n",
        "doc.build(elements)\n",
        "\n",
        "print(f\"PDF-файл с таблицей сохранен как {pdf_file}\")"
      ],
      "metadata": {
        "colab": {
          "base_uri": "https://localhost:8080/"
        },
        "id": "dHOM0hn8Ijt2",
        "outputId": "5b1ac65c-51f9-4bee-ea9d-ae74a091f12a"
      },
      "execution_count": 2,
      "outputs": [
        {
          "output_type": "stream",
          "name": "stdout",
          "text": [
            "PDF-файл с таблицей сохранен как table_example.pdf\n"
          ]
        }
      ]
    },
    {
      "cell_type": "code",
      "source": [
        "import pandas as pd\n",
        "from reportlab.lib import colors\n",
        "from reportlab.lib.pagesizes import letter\n",
        "from reportlab.platypus import SimpleDocTemplate, Table, TableStyle\n",
        "\n",
        "# Пример DataFrame\n",
        "data = {\n",
        "    'Column 1': ['Data 1', 'Data 4', 'Data 7'],\n",
        "    'Column 2': ['Data 2', 'Data 5', 'Data 8'],\n",
        "    'Column 3': ['Data 3', 'Data 6', 'Data 9']\n",
        "}\n",
        "df = pd.DataFrame(data)\n",
        "\n",
        "# Создаем PDF-документ\n",
        "pdf_file = \"table_from_df.pdf\"\n",
        "doc = SimpleDocTemplate(pdf_file, pagesize=letter)\n",
        "\n",
        "# Преобразуем DataFrame в список списков\n",
        "data_table = [df.columns.tolist()] + df.values.tolist()\n",
        "\n",
        "# Создаем таблицу\n",
        "table = Table(data_table)\n",
        "\n",
        "# Добавляем стиль таблицы\n",
        "style = TableStyle([\n",
        "    ('BACKGROUND', (0, 0), (-1, 0), colors.grey),  # Фон заголовков\n",
        "    ('TEXTCOLOR', (0, 0), (-1, 0), colors.whitesmoke),  # Цвет текста заголовков\n",
        "    ('ALIGN', (0, 0), (-1, -1), 'CENTER'),  # Выравнивание текста по центру\n",
        "    ('FONTNAME', (0, 0), (-1, 0), 'Helvetica-Bold'),  # Шрифт заголовков\n",
        "    ('BOTTOMPADDING', (0, 0), (-1, 0), 12),  # Отступ снизу заголовков\n",
        "    ('BACKGROUND', (0, 1), (-1, -1), colors.beige),  # Фон данных\n",
        "    ('GRID', (0, 0), (-1, -1), 1, colors.black)  # Сетка таблицы\n",
        "])\n",
        "table.setStyle(style)\n",
        "\n",
        "# Собираем документ\n",
        "elements = []\n",
        "elements.append(table)\n",
        "\n",
        "# Сохраняем документ\n",
        "doc.build(elements)\n",
        "\n",
        "print(f\"PDF-файл с таблицей из DataFrame сохранен как {pdf_file}\")"
      ],
      "metadata": {
        "colab": {
          "base_uri": "https://localhost:8080/"
        },
        "id": "1aC0tGF6Ivnf",
        "outputId": "75c31b0e-a98b-4e1f-d8a5-47234ed14c90"
      },
      "execution_count": 3,
      "outputs": [
        {
          "output_type": "stream",
          "name": "stdout",
          "text": [
            "PDF-файл с таблицей из DataFrame сохранен как table_from_df.pdf\n"
          ]
        }
      ]
    },
    {
      "cell_type": "code",
      "source": [],
      "metadata": {
        "id": "hYZbdwMKZVj9"
      },
      "execution_count": null,
      "outputs": []
    }
  ]
}